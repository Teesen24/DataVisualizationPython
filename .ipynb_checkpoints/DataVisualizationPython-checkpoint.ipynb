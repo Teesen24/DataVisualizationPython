{
 "cells": [
  {
   "cell_type": "markdown",
   "id": "de46ef7d",
   "metadata": {},
   "source": [
    "## A step-by-step guide to Data Visualizations in Python\n",
    "\n",
    "Follow along with [this article](https://medium.com/codex/step-by-step-guide-to-data-visualizations-in-python-b322129a1540).  We will be using [this .xlsx dataset](https://www.kaggle.com/roshansharma/immigration-to-canada-ibm-dataset) from Kaggle on Immigration to Canada from 1980–2013. No need to dowload it, it is already in the git repositroy you forked.<br>\n",
    "\n",
    "#### We suggest that instead of copy and pasting the code, you type it out.  This will help you become more familiar with the syntex and better understand it.\n"
   ]
  },
  {
   "cell_type": "markdown",
   "id": "36f3869c",
   "metadata": {},
   "source": [
    "### Step-1: Importing Packages"
   ]
  },
  {
   "cell_type": "code",
   "execution_count": 1,
   "id": "eaf68ea3",
   "metadata": {},
   "outputs": [
    {
     "name": "stdout",
     "output_type": "stream",
     "text": [
      "Requirement already satisfied: mplcyberpunk in c:\\users\\tinua\\anaconda3\\lib\\site-packages (0.5.1)\n",
      "Requirement already satisfied: matplotlib in c:\\users\\tinua\\anaconda3\\lib\\site-packages (from mplcyberpunk) (3.4.3)\n",
      "Requirement already satisfied: numpy>=1.16 in c:\\users\\tinua\\anaconda3\\lib\\site-packages (from matplotlib->mplcyberpunk) (1.20.3)\n",
      "Requirement already satisfied: cycler>=0.10 in c:\\users\\tinua\\anaconda3\\lib\\site-packages (from matplotlib->mplcyberpunk) (0.10.0)\n",
      "Requirement already satisfied: pyparsing>=2.2.1 in c:\\users\\tinua\\anaconda3\\lib\\site-packages (from matplotlib->mplcyberpunk) (3.0.4)\n",
      "Requirement already satisfied: kiwisolver>=1.0.1 in c:\\users\\tinua\\anaconda3\\lib\\site-packages (from matplotlib->mplcyberpunk) (1.3.1)\n",
      "Requirement already satisfied: pillow>=6.2.0 in c:\\users\\tinua\\anaconda3\\lib\\site-packages (from matplotlib->mplcyberpunk) (8.4.0)\n",
      "Requirement already satisfied: python-dateutil>=2.7 in c:\\users\\tinua\\anaconda3\\lib\\site-packages (from matplotlib->mplcyberpunk) (2.8.2)\n",
      "Requirement already satisfied: six in c:\\users\\tinua\\anaconda3\\lib\\site-packages (from cycler>=0.10->matplotlib->mplcyberpunk) (1.16.0)\n"
     ]
    }
   ],
   "source": [
    "!pip install mplcyberpunk"
   ]
  },
  {
   "cell_type": "code",
   "execution_count": 2,
   "id": "cad80a84",
   "metadata": {},
   "outputs": [],
   "source": [
    "#import all librarys and modules needed\n",
    "import pandas as pd\n",
    "import numpy as np\n",
    "import seaborn as sb\n",
    "import matplotlib.pyplot as plt\n",
    "from matplotlib import style\n",
    "# setting style for graphs\n",
    "style.use('ggplot')\n",
    "plt.rcParams['figure.figsize'] = (20,10)"
   ]
  },
  {
   "cell_type": "code",
   "execution_count": null,
   "id": "daa87f8c",
   "metadata": {},
   "outputs": [],
   "source": [
    "data = pd.read_excel(r\"C:\\Users\\tinua\\Desktop\\LaunchCode\\DataVisualizationPython\\Data\\Canada.xlsx\")\n",
    "#df = pd.read_excel('data/Canada.xlsx')\n",
    "#df=pd.read_excel(r'C:/Users/tinua/Desktop/LaunchCode/DataVisualizationPython/Data/Canada.xlsx')"
   ]
  },
  {
   "cell_type": "code",
   "execution_count": null,
   "id": "a17e0eca",
   "metadata": {},
   "outputs": [],
   "source": [
    "data.head()"
   ]
  },
  {
   "cell_type": "markdown",
   "id": "9e475669",
   "metadata": {},
   "source": [
    "### Step-2 : Importing and Cleaning Data "
   ]
  },
  {
   "cell_type": "code",
   "execution_count": null,
   "id": "725a3f37",
   "metadata": {},
   "outputs": [],
   "source": [
    "#import and clean data, remember path is data/Canada.xlsx\n",
    "df = pd.read_excel('data/Canada.xlsx',1, skiprows = range(20), skipfooter = 2)\n",
    "\n",
    "df.drop(['AREA','REG','DEV','Type','Coverage','DevName'], axis=1, inplace=True)\n",
    "df.rename(columns = {'OdName':'country','AreaName':'continent','RegName':'region'}, inplace = True)\n",
    "# df['total'] = df.sum(axis = 1)\n",
    "df = df.set_index('country')\n",
    "df.rename(index = {'United Kingdom of Great Britain and Northern Ireland':'UK & Ireland'}, inplace = True)\n",
    "df.columns = df.columns.astype(str)\n",
    "# Useful for upcoming visualizations\n",
    "years = list(map(str, range(1980,2013)))"
   ]
  },
  {
   "cell_type": "markdown",
   "id": "517c0bf9",
   "metadata": {},
   "source": [
    "### Step-3 : Creating Beautiful Visualizations\n",
    "\n",
    "#### Line Chart"
   ]
  },
  {
   "cell_type": "code",
   "execution_count": null,
   "id": "24e86697",
   "metadata": {},
   "outputs": [],
   "source": [
    "# Single line chart\n",
    "fig1 = df.loc['Haiti', years].plot(kind = 'line', color = 'r')\n",
    "plt.title('Immigration from Haiti to Canada from 1980-2013',color = 'black')\n",
    "plt.xlabel('Years',color = 'black')\n",
    "plt.ylabel('Number of Immigrants',color = 'black')\n",
    "plt.xticks(color = 'black')\n",
    "plt.yticks(color = 'black')\n",
    "plt.savefig('linechart_single.png')\n",
    "\n",
    "plt.show()\n"
   ]
  },
  {
   "cell_type": "code",
   "execution_count": null,
   "id": "fed6d30a",
   "metadata": {},
   "outputs": [],
   "source": [
    "# Multiple Line chart \n",
    "fig2 = plt.plot(df.loc['India',years], label = 'India')\n",
    "plt.plot(df.loc['China',years], label = 'China')\n",
    "plt.plot(df.loc['Philippines',years], label = 'Sri Lanka')\n",
    "plt.legend(loc = 'upper left', fontsize = 12)\n",
    "plt.xticks(rotation = 90, color = 'black')\n",
    "plt.yticks(color = 'black')\n",
    "plt.title('Immigration to Canada from 1980-2013',color = 'black')\n",
    "plt.xlabel('Year',color = 'black')\n",
    "plt.ylabel('Number of Immigrants',color = 'black')\n",
    "plt.savefig('linechart_multiple.png')\n",
    "\n",
    "plt.show()"
   ]
  },
  {
   "cell_type": "markdown",
   "id": "966ec2fb",
   "metadata": {},
   "source": [
    "#### Lets talk about style   "
   ]
  },
  {
   "cell_type": "code",
   "execution_count": null,
   "id": "5fc473cf",
   "metadata": {},
   "outputs": [],
   "source": [
    "#Shows all avaiable built-in styles\n",
    "print(plt.style.available)"
   ]
  },
  {
   "cell_type": "markdown",
   "id": "28feffa4",
   "metadata": {},
   "source": [
    "To see a visualization of the aviable style sheets [click here](https://matplotlib.org/stable/gallery/style_sheets/style_sheets_reference.html). \n",
    "\n",
    "Syntex to select a specific style is: plt.style.use('style_name') \n",
    "\n",
    "Try it out by adding the line of code to the top of the code block above and choose one of the preinstalled styles. Which style is your favorite?<br><br>\n",
    "\n",
    "What happens when you change the line- plt.legend(loc = 'upper left', fontsize = 12) to plt.legend(loc = 'lower right', fontsize = 12)? <br><br><br><br>\n",
    "\n",
    "\n",
    "\n",
    "Experiment changing other lines of the code and see how the graph changes. Add any notes or observations here. Going forward feel free to experiment with each graph type<br><br><br><br><br><br>"
   ]
  },
  {
   "cell_type": "markdown",
   "id": "d9153254",
   "metadata": {},
   "source": [
    "#### Install mplcyberpunk\n",
    "Open a terminal window and at at the prompt type:\n",
    "\n",
    "python -V\n",
    "\n",
    "If its python 3.something, copy and paste: pip install mplcyberpunk\n",
    "If its python 2.something, copy and paste: pip3 install mplcyberpunk\n",
    "\n",
    "\n",
    "For more info on mplcyberpunk click [here.](https://github.com/dhaitz/mplcyberpunk)"
   ]
  },
  {
   "cell_type": "code",
   "execution_count": null,
   "id": "d6532a85",
   "metadata": {},
   "outputs": [],
   "source": [
    "# Cyberpunk Multiple Line Chart\n",
    "\n",
    "import mplcyberpunk\n",
    "style.use('cyberpunk')\n",
    "\n",
    "plt.plot(df.loc['India',years], label = 'India')\n",
    "plt.plot(df.loc['China',years], label = 'China')\n",
    "plt.plot(df.loc['Philippines',years], label = 'Sri Lanka')\n",
    "plt.legend(loc = 'upper left', fontsize = 14)\n",
    "plt.xticks(rotation = 90, color = 'white', fontsize = 14, fontweight = 'bold')\n",
    "plt.yticks(color = 'white', fontsize = 14, fontweight = 'bold')\n",
    "plt.title('Immigration to Canada from 1980-2013',color = 'white', fontsize = 20, fontweight = 'bold')\n",
    "plt.xlabel('Year',color = 'white', fontsize = 16, fontweight = 'bold')\n",
    "plt.ylabel('Number of Immigrants',color = 'white',fontsize = 16, fontweight = 'bold')\n",
    "plt.savefig('cyber_line.png')\n",
    "\n",
    "plt.show()\n"
   ]
  },
  {
   "cell_type": "markdown",
   "id": "01dbbde2",
   "metadata": {},
   "source": [
    "#### Bar Chart"
   ]
  },
  {
   "cell_type": "code",
   "execution_count": null,
   "id": "f3930bde",
   "metadata": {},
   "outputs": [],
   "source": [
    "# Vertical bar chart\n",
    "# Do not change the style back to ggplot \n",
    "# delete the style.use('ggplot') line of code\n",
    "\n",
    "# style.use('ggplot')\n",
    "\n",
    "df_tot = pd.DataFrame(df.loc[:,years].sum())\n",
    "df_tot.rename(columns = {0:'total'}, inplace = True)\n",
    "\n",
    "df_tot.plot(kind = 'bar', legend = False)\n",
    "plt.title('Total Immigrants to Canada from 1980-2013',color = 'black')\n",
    "plt.xticks(color = 'black')\n",
    "plt.yticks(color = 'black')\n",
    "plt.xlabel('Year',color = 'black')\n",
    "plt.ylabel('Number of Immigrants',color = 'black')\n",
    "plt.savefig('bar_vertical.png')\n",
    "\n",
    "plt.show()"
   ]
  },
  {
   "cell_type": "markdown",
   "id": "ee20b2db",
   "metadata": {},
   "source": [
    "Notice that style is still set to cyberpunk.  How do we fix it so we can see the labels?<br> <br>\n",
    "\n",
    "Answer: change the color = 'black' to 'white'\n",
    "\n",
    "Feel free to experiment and add any notes or observations here. <br><br><br><br><br>"
   ]
  },
  {
   "cell_type": "code",
   "execution_count": null,
   "id": "8c76e7b3",
   "metadata": {},
   "outputs": [],
   "source": [
    "# Horizontal bar chart\n",
    "#change style back to ggplt\n",
    "style.use('ggplot')\n",
    "\n",
    "df_top10 = pd.DataFrame(df.nlargest(10,'total')['total'].sort_values(ascending = True))\n",
    "\n",
    "df_top10.plot.barh(legend = False, color = 'crimson', edgecolor = 'lightcoral')\n",
    "plt.title('Top 10 Immigrant Countries to Canada from 1980-2013',color = 'black')\n",
    "plt.xlabel('Number of Immigrants',color = 'black')\n",
    "plt.ylabel('Country',color = 'black')\n",
    "plt.xticks(color = 'black')\n",
    "plt.yticks(color = 'black')\n",
    "plt.savefig('bar_horizontal.png')\n",
    "\n",
    "plt.show()"
   ]
  },
  {
   "cell_type": "markdown",
   "id": "7fcf08a3",
   "metadata": {},
   "source": [
    "Feel free to experiment and add any notes or observations here. <br><br><br><br><br>"
   ]
  },
  {
   "cell_type": "code",
   "execution_count": null,
   "id": "64b65871",
   "metadata": {},
   "outputs": [],
   "source": [
    "# Grouped bar chart\n",
    "year_int10 = list(map(str, (1980,1990,2000,2010, 2013)))\n",
    "df_group = pd.DataFrame(df.loc[['India','China','Philippines','Pakistan'],year_int10].T)\n",
    "\n",
    "df_group.plot.bar(edgecolor = 'white')\n",
    "plt.title('Total Immigrants to Canada from 1980-2013',color = 'black')\n",
    "plt.xticks(color = 'black')\n",
    "plt.yticks(color = 'black')\n",
    "plt.xlabel('Year',color = 'black')\n",
    "plt.ylabel('Number of Immigrants',color = 'black')\n",
    "plt.legend(title = 'Country', fontsize = 12)\n",
    "plt.savefig('bar_grouped.png')\n",
    "\n",
    "plt.show()"
   ]
  },
  {
   "cell_type": "markdown",
   "id": "f4c40b4e",
   "metadata": {},
   "source": [
    "Notice how the labels in the legend have disapeared?  We can fix this by adding labelcolor='k' to plt.legend<br>\n",
    "<br>plt.legend(title = 'Country', fontsize = 12, labelcolor='black')\n",
    "\n"
   ]
  },
  {
   "cell_type": "markdown",
   "id": "c1fe51d0",
   "metadata": {},
   "source": [
    "Feel free to experiment and add any notes or observations here. <br><br><br><br><br>"
   ]
  },
  {
   "cell_type": "markdown",
   "id": "19f08118",
   "metadata": {},
   "source": [
    "#### Area Chart"
   ]
  },
  {
   "cell_type": "code",
   "execution_count": null,
   "id": "509687c7",
   "metadata": {},
   "outputs": [],
   "source": [
    "# Area Chart\n",
    "plt.fill_between(df_tot.index, df_tot['total'], color=\"skyblue\", alpha=0.4)\n",
    "plt.plot(df_tot.index, df_tot['total'], color = 'Slateblue', alpha = 0.6)\n",
    "plt.title('Total Immigrants to Canada from 1980-2013', fontsize = 18, color = 'black')\n",
    "plt.yticks(fontsize = 12, color = 'black')\n",
    "plt.xticks(fontsize = 12, rotation = 90, color = 'black')\n",
    "plt.xlabel('Year', fontsize = 14, color = 'black')\n",
    "plt.ylabel('Number of Immigrants', fontsize = 14, color = 'black')\n",
    "plt.savefig('area_simple.png')\n",
    "\n",
    "plt.show()"
   ]
  },
  {
   "cell_type": "markdown",
   "id": "4d408e89",
   "metadata": {},
   "source": [
    "Feel free to experiment and add any notes or observations here. <br><br><br><br><br>"
   ]
  },
  {
   "cell_type": "code",
   "execution_count": null,
   "id": "7989e6ac",
   "metadata": {},
   "outputs": [],
   "source": [
    "# cyberpunk simple area chart\n",
    "import mplcyberpunk\n",
    "\n",
    "style.use('cyberpunk')\n",
    "\n",
    "plt.fill_between(df_tot.index, df_tot['total'], color = 'greenyellow', alpha = 0.1)\n",
    "plt.plot(df_tot.index, df_tot['total'], color = 'palegreen', alpha = 1)\n",
    "mplcyberpunk.add_glow_effects()\n",
    "plt.title('Total Immigrants to Canada from 1980-2013', fontsize = 20,fontweight = 'bold', color = 'white')\n",
    "plt.yticks(fontsize = 14, color = 'white',fontweight = 'bold')\n",
    "plt.xticks(fontsize = 14, rotation = 90, color = 'white',fontweight = 'bold')\n",
    "plt.xlabel('Year', fontsize = 16, color = 'white',fontweight = 'bold')\n",
    "plt.ylabel('Number of Immigrants', fontsize = 16, color = 'white',fontweight = 'bold')\n",
    "plt.savefig('cyber_area_simple.png')\n",
    "\n",
    "plt.show()"
   ]
  },
  {
   "cell_type": "markdown",
   "id": "420631dd",
   "metadata": {},
   "source": [
    "Feel free to experiment and add any notes or observations here. <br><br><br><br><br>"
   ]
  },
  {
   "cell_type": "code",
   "execution_count": null,
   "id": "9bc1454c",
   "metadata": {},
   "outputs": [],
   "source": [
    "# stacked area chart\n",
    "\n",
    "color = ['skyblue','lightcoral']\n",
    "top2_list = df.nlargest(2, 'total').index.tolist()\n",
    "df_top2 = pd.DataFrame(df.loc[top2_list, years].T)\n",
    "\n",
    "df_top2.plot(kind = 'area', stacked = True, color = color)\n",
    "plt.title('Total Immigrants to Canada from 1980-2013',color = 'black')\n",
    "plt.legend(fontsize = 12)\n",
    "plt.xlabel('Year',color = 'black')\n",
    "plt.ylabel('Number of Immigrants',color = 'black')\n",
    "plt.xticks(color = 'black')\n",
    "plt.yticks(color = 'black')\n",
    "plt.savefig('area_stacked.png')\n",
    "\n",
    "plt.show()"
   ]
  },
  {
   "cell_type": "markdown",
   "id": "503f68a3",
   "metadata": {},
   "source": [
    "Feel free to experiment and add any notes or observations here. <br><br><br><br><br>"
   ]
  },
  {
   "cell_type": "code",
   "execution_count": null,
   "id": "c0dd9e02",
   "metadata": {},
   "outputs": [],
   "source": [
    "# unstacked area chart\n",
    "df_top2.plot(kind = 'area', stacked = False, color = color)\n",
    "plt.title('Total Immigrants to Canada from 1980-2013',color = 'black')\n",
    "plt.xlabel('Year',color = 'black')\n",
    "plt.ylabel('Number of Immigrants',color = 'black')\n",
    "plt.legend(fontsize = 12)\n",
    "plt.xticks(color = 'black')\n",
    "plt.yticks(color = 'black')\n",
    "plt.savefig('area_unstacked.png')\n",
    "\n",
    "plt.show()"
   ]
  },
  {
   "cell_type": "markdown",
   "id": "35834e39",
   "metadata": {},
   "source": [
    "Feel free to experiment and add any notes or observations here. <br><br><br><br><br>"
   ]
  },
  {
   "cell_type": "markdown",
   "id": "3d866890",
   "metadata": {},
   "source": [
    "#### Box Plot"
   ]
  },
  {
   "cell_type": "code",
   "execution_count": null,
   "id": "43991b65",
   "metadata": {},
   "outputs": [],
   "source": [
    "# Vertical Box Plot\n",
    "df_box = pd.DataFrame(df.loc[['India','China','Pakistan','UK & Ireland','Philippines'], years].T)\n",
    "\n",
    "df_box.plot(kind = 'box')\n",
    "plt.title('Top 5 Immigrant Countries to Canada from 1980-2013', color = 'black')\n",
    "plt.xlabel('Country', color = 'black')\n",
    "plt.ylabel('Number of Immigrants', color = 'black')\n",
    "plt.savefig('box_vertical.png')\n",
    "\n",
    "plt.show()"
   ]
  },
  {
   "cell_type": "markdown",
   "id": "947dc4d8",
   "metadata": {},
   "source": [
    "Feel free to experiment and add any notes or observations here. <br><br><br><br><br>"
   ]
  },
  {
   "cell_type": "code",
   "execution_count": null,
   "id": "e1b2f85d",
   "metadata": {},
   "outputs": [],
   "source": [
    "# horizontal box plot\n",
    "df_box.plot(kind = 'box', vert = False)\n",
    "plt.title('Top 5 Immigrant Countries to Canada from 1980-2013', color = 'black')\n",
    "plt.ylabel('Country', color = 'black')\n",
    "plt.xlabel('Number of Immigrants', color = 'black')\n",
    "plt.savefig('box_horizontal.png')\n",
    "\n",
    "plt.show()"
   ]
  },
  {
   "cell_type": "markdown",
   "id": "cfdd9f82",
   "metadata": {},
   "source": [
    "Feel free to experiment and add any notes or observations here. <br><br><br><br><br>"
   ]
  },
  {
   "cell_type": "markdown",
   "id": "b479350f",
   "metadata": {},
   "source": [
    "#### Scatter Plot\n",
    "\n",
    "With the newist version of Seaborn we have to specify x and y.\n",
    "\n",
    "example: sb.scatterplot(x = 'sepal_length', y = 'sepal_width', data = df_iris)"
   ]
  },
  {
   "cell_type": "code",
   "execution_count": null,
   "id": "43dbcd4f",
   "metadata": {},
   "outputs": [],
   "source": [
    "#scatter plot comparing sepal length to sepal width\n",
    "df_iris = sb.load_dataset('iris')\n",
    "\n",
    "sb.scatterplot('sepal_length','sepal_width', data = df_iris, s = 200, linewidth = 3, edgecolor = 'Red')\n",
    "plt.title('Scatter Plot sample', color = 'black', fontsize = 18)\n",
    "plt.savefig('scatter.png')\n",
    "\n",
    "plt.show()"
   ]
  },
  {
   "cell_type": "markdown",
   "id": "4e6d47b5",
   "metadata": {},
   "source": [
    "Feel free to experiment and add any notes or observations here. <br><br><br><br><br>"
   ]
  },
  {
   "cell_type": "markdown",
   "id": "1277af5c",
   "metadata": {},
   "source": [
    "#### Histogram\n",
    "\n",
    "With the newist version of Seaborn they have deprecated distplot. Replace distplot with histplot and add kde = True\n",
    "\n",
    "example:\n",
    "sb.histplot(df_iris['sepal_length'], color = 'Red', label = 'Sepal Length', kde = True)"
   ]
  },
  {
   "cell_type": "code",
   "execution_count": null,
   "id": "d0ac74c1",
   "metadata": {},
   "outputs": [],
   "source": [
    "#Histogram side by side, with kde\n",
    "df_iris = sb.load_dataset('iris')\n",
    "\n",
    "sb.distplot(df_iris['sepal_length'], color = 'Red', label = 'Sepal Length')\n",
    "sb.distplot(df_iris['sepal_width'], color = 'skyblue', label = 'Sepal Width')\n",
    "plt.legend(fontsize = 12)\n",
    "plt.xlabel('Sepal Width', color = 'black')\n",
    "plt.ylabel('Frequency', color = 'black')\n",
    "plt.xticks(color = 'black')\n",
    "plt.yticks(color = 'black')\n",
    "plt.savefig('histogram.png')\n",
    "\n",
    "plt.show()"
   ]
  },
  {
   "cell_type": "markdown",
   "id": "0eb4855a",
   "metadata": {},
   "source": [
    "Feel free to experiment and add any notes or observations here. <br><br><br><br><br>"
   ]
  },
  {
   "cell_type": "markdown",
   "id": "71cdde5b",
   "metadata": {},
   "source": [
    "#### Bubble Plot"
   ]
  },
  {
   "cell_type": "code",
   "execution_count": null,
   "id": "d6544f40",
   "metadata": {},
   "outputs": [],
   "source": [
    "# Bubble Plot\n",
    "x = np.random.rand(1,30,1)\n",
    "y = np.random.rand(1,30,1)\n",
    "size = np.random.rand(1,30,1)\n",
    "\n",
    "plt.scatter(x,y,s = size*4000, alpha = 0.4, color = 'r', edgecolor = 'Red', linewidth = 4)\n",
    "plt.title('Bubble Plot Sample', color = 'black')\n",
    "plt.savefig('bubble.png')\n",
    "\n",
    "plt.show()"
   ]
  },
  {
   "cell_type": "markdown",
   "id": "9e3dde2c",
   "metadata": {},
   "source": [
    "Feel free to experiment and add any notes or observations here. <br><br><br><br><br>"
   ]
  },
  {
   "cell_type": "markdown",
   "id": "6809d6ad",
   "metadata": {},
   "source": [
    "#### Pie Chart\n",
    "\n",
    "Skip this one as the code throws an error. "
   ]
  },
  {
   "cell_type": "markdown",
   "id": "17ca2784",
   "metadata": {},
   "source": [
    "df_pie = pd.DataFrame(df.groupby('continent')['total'].sum().T)\n",
    "colors = ['gold', 'yellowgreen', 'lightcoral', 'lightskyblue', 'lightgreen', 'pink']\n",
    "explode = [0,0.1,0,0,0.1,0.1]\n",
    "\n",
    "plt.pie(df_pie, colors = colors, autopct = '%1.1f%%', startangle = 90, explode = explode, pctdistance = 1.12, shadow = True)\n",
    "plt.title('Continent-Wise Immigrants Distribution', color = 'black', y = 1.1, fontsize = 18)\n",
    "plt.legend(df_pie.index, loc = 'upper left', fontsize = 12)\n",
    "plt.axis('equal')\n",
    "plt.savefig('pie.png')\n",
    "\n",
    "plt.show()"
   ]
  },
  {
   "cell_type": "markdown",
   "id": "c2dd3923",
   "metadata": {},
   "source": [
    "#### Doughnut Chart"
   ]
  },
  {
   "cell_type": "code",
   "execution_count": null,
   "id": "e1ed45a2",
   "metadata": {},
   "outputs": [],
   "source": [
    "# Doughnut Chart\n",
    "top5_list = df.nlargest(5, 'total').index.tolist()\n",
    "df_top5 = pd.DataFrame(df.loc[top5_list, 'total'].T)\n",
    "circle = plt.Circle( (0,0), 0.7, color='white')\n",
    "colors = ['gold', 'yellowgreen', 'lightcoral', 'lightskyblue', 'lightgreen', 'pink']\n",
    "\n",
    "plt.pie(df_top5['total'], autopct = '%1.1f%%', shadow = True, explode = [0.1,0,0,0,0], colors = colors, startangle = 90)\n",
    "fig = plt.gcf()\n",
    "fig.gca().add_artist(circle)\n",
    "plt.legend(df_top5.index, fontsize = 12, loc = 'upper left')\n",
    "plt.title('Top 5 Immigrant Country Distribution', color = 'black', fontsize = 18)\n",
    "plt.axis('equal')\n",
    "plt.savefig('doughnut.png')\n",
    "\n",
    "plt.show()"
   ]
  },
  {
   "cell_type": "markdown",
   "id": "9fdda71d",
   "metadata": {},
   "source": [
    "Feel free to experiment and add any notes or observations here. <br><br><br><br><br>"
   ]
  },
  {
   "cell_type": "markdown",
   "id": "dba1dc8e",
   "metadata": {},
   "source": [
    "#### Regression Plot"
   ]
  },
  {
   "cell_type": "code",
   "execution_count": null,
   "id": "bc5f6f24",
   "metadata": {},
   "outputs": [],
   "source": [
    "# Strong trend\n",
    "df_reg = pd.DataFrame(df.loc['China',years])\n",
    "df_reg.reset_index(inplace = True)\n",
    "df_reg.rename(columns = {'index':'year'}, inplace = True)\n",
    "df_reg[['year','China']] = df_reg[['year','China']].astype(int)\n",
    "\n",
    "sb.regplot(x = 'year', y = 'China', data = df_reg, color = 'b', scatter_kws = {'s':150,'alpha':0.4})\n",
    "plt.title('Total Immigration from China to Canada from 1980-2013', color = 'black')\n",
    "plt.xlabel('Year', color = 'black')\n",
    "plt.ylabel('Number of Immigrants', color = 'black')\n",
    "plt.xticks(color = 'black')\n",
    "plt.yticks(color = 'black')\n",
    "plt.savefig('reg_strong.png')\n",
    "\n",
    "plt.show()"
   ]
  },
  {
   "cell_type": "markdown",
   "id": "66c55013",
   "metadata": {},
   "source": [
    "Feel free to experiment and add any notes or observations here. <br><br><br><br><br>"
   ]
  },
  {
   "cell_type": "code",
   "execution_count": null,
   "id": "0aeed0b5",
   "metadata": {},
   "outputs": [],
   "source": [
    "# Weak trend\n",
    "df_reg1 = pd.DataFrame(df.loc[['Denmark','Norway','Sweden'],years].sum())\n",
    "df_reg1.reset_index(inplace = True)\n",
    "df_reg1.rename(columns = {'index':'year',0:'total'}, inplace = True)\n",
    "df_reg1[['year','total']] = df_reg1[['year','total']].astype(int)\n",
    "\n",
    "sb.regplot(x = 'year', y = 'total', data = df_reg1, color = 'Red', scatter_kws = {'s':150,'alpha':0.4})\n",
    "plt.title('Total Immigrants from Scandinavia to Canada from 1980-2013', color = 'black')\n",
    "plt.xticks(color = 'black')\n",
    "plt.yticks(color = 'black')\n",
    "plt.xlabel('Year', color = 'black')\n",
    "plt.ylabel('Number of Immigrants', color = 'black')\n",
    "plt.savefig('reg_weak.png')\n",
    "\n",
    "plt.show()"
   ]
  },
  {
   "cell_type": "markdown",
   "id": "88bca541",
   "metadata": {},
   "source": [
    "Feel free to experiment and add any notes or observations here. <br><br><br><br><br>"
   ]
  },
  {
   "cell_type": "markdown",
   "id": "6646021e",
   "metadata": {},
   "source": [
    "#### Word Cloud\n",
    "\n",
    "You might need to pip install wordcloud and pip install Pywaffle.  Follow the instruction from when you installed cyperpunk earlier.\n",
    "\n",
    "Make sure to add the txt files from [here](https://github.com/codinglikeagirl42/DataVisualizationPython) to your data folder and remember the path is data/filename.txt. Try creating your own txt file to visualize."
   ]
  },
  {
   "cell_type": "code",
   "execution_count": null,
   "id": "4d96e72c",
   "metadata": {},
   "outputs": [],
   "source": [
    "# word cloud\n",
    "from wordcloud import WordCloud, STOPWORDS\n",
    "\n",
    "text = open('sample.txt', 'r', encoding = 'utf-8').read()\n",
    "stopwords = set(STOPWORDS)\n",
    "wordcloud = WordCloud(background_color = 'white', max_words = 200, stopwords = stopwords)\n",
    "\n",
    "wordcloud.generate(text)\n",
    "plt.imshow(wordcloud, interpolation = 'bilinear')\n",
    "plt.axis('off')\n",
    "plt.savefig('wordcloud.png')\n",
    "\n",
    "plt.show()"
   ]
  },
  {
   "cell_type": "markdown",
   "id": "0b7cf536",
   "metadata": {},
   "source": [
    "Feel free to experiment and add any notes or observations here. <br><br><br><br><br>"
   ]
  },
  {
   "cell_type": "markdown",
   "id": "db66a359",
   "metadata": {},
   "source": [
    "#### Lollipop Chart"
   ]
  },
  {
   "cell_type": "code",
   "execution_count": null,
   "id": "073f2112",
   "metadata": {},
   "outputs": [],
   "source": [
    "# Lollipop chart\n",
    "plt.stem(df_tot.index, df_tot['total'])\n",
    "plt.title('Total Immigrants to Canada from 1980-2013', color = 'black')\n",
    "plt.xlabel('Year', color = 'black')\n",
    "plt.ylabel('Number of Immigrants', color = 'black')\n",
    "plt.xticks(color = 'black')\n",
    "plt.yticks(color = 'black')\n",
    "plt.savefig('lollipop.png')\n",
    "\n",
    "plt.show()"
   ]
  },
  {
   "cell_type": "markdown",
   "id": "32843553",
   "metadata": {},
   "source": [
    "Feel free to experiment and add any notes or observations here. <br><br><br><br><br>"
   ]
  },
  {
   "cell_type": "code",
   "execution_count": null,
   "id": "d01fb5e5",
   "metadata": {},
   "outputs": [],
   "source": []
  },
  {
   "cell_type": "code",
   "execution_count": null,
   "id": "fd84dbbb",
   "metadata": {},
   "outputs": [],
   "source": []
  }
 ],
 "metadata": {
  "kernelspec": {
   "display_name": "Python 3 (ipykernel)",
   "language": "python",
   "name": "python3"
  },
  "language_info": {
   "codemirror_mode": {
    "name": "ipython",
    "version": 3
   },
   "file_extension": ".py",
   "mimetype": "text/x-python",
   "name": "python",
   "nbconvert_exporter": "python",
   "pygments_lexer": "ipython3",
   "version": "3.9.7"
  }
 },
 "nbformat": 4,
 "nbformat_minor": 5
}
